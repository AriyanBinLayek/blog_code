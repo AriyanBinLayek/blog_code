{
 "cells": [
  {
   "cell_type": "markdown",
   "metadata": {},
   "source": [
    "## Python Data model by example \n",
    "### Thanks to the clear introduction in chapter 1 of Fluent Python book!"
   ]
  },
  {
   "cell_type": "code",
   "execution_count": 151,
   "metadata": {
    "collapsed": false
   },
   "outputs": [
    {
     "name": "stdout",
     "output_type": "stream",
     "text": [
      "(Tweet(time='2017-01-25 08:45:00', text='Teaching Python today, feels great', likes=3), Tweet(time='2017-01-25 09:45:00', text='Writing a post on the Python data model', likes=2), Tweet(time='2017-01-25 07:45:00', text='from __future__ import braces ... not a chance', likes=10), Tweet(time='2017-01-25 10:45:00', text='Doing code challenge 03, learning a lot', likes=5), Tweet(time='2017-01-25 12:45:00', text='Done with code challenge 03', likes=1))\n"
     ]
    }
   ],
   "source": [
    "# for simplicity mock up some tweets\n",
    "from collections import namedtuple\n",
    "import random\n",
    "\n",
    "Tweet = namedtuple('Tweet', 'time text likes')\n",
    "\n",
    "tweets = (\n",
    "    Tweet('2017-01-25 08:45:00', 'Teaching Python today, feels great', 3),\n",
    "    Tweet('2017-01-25 09:45:00', 'Writing a post on the Python data model', 2),\n",
    "    Tweet('2017-01-25 07:45:00', 'from __future__ import braces ... not a chance', 10),\n",
    "    Tweet('2017-01-25 10:45:00', 'Doing code challenge 03, learning a lot', 5),\n",
    "    Tweet('2017-01-25 12:45:00', 'Done with code challenge 03', 1),\n",
    ")\n",
    "print(tweets)"
   ]
  },
  {
   "cell_type": "code",
   "execution_count": 153,
   "metadata": {
    "collapsed": false
   },
   "outputs": [],
   "source": [
    "# lets make twitter handle a bit more sophisticated, we are going to work with a parent-child relation for this example\n",
    "\n",
    "class Handle(object):\n",
    "    \n",
    "    def __init__(self, handle, shared_handle=None):\n",
    "        self.handle = handle\n",
    "        self.shared_handle = shared_handle\n",
    "    \n",
    "    def __str__(self):\n",
    "        shared = ''\n",
    "        if self.shared_handle is None:\n",
    "            shared = ''\n",
    "        else:\n",
    "            shared = ' (shared handle: {})'.format(self.shared_handle)\n",
    "        return '{}{}'.format(self.handle, shared)"
   ]
  },
  {
   "cell_type": "code",
   "execution_count": 154,
   "metadata": {
    "collapsed": true
   },
   "outputs": [],
   "source": [
    "# a TwitterUser has a handle name and a bunch of tweets, note the two dunder methods after the constructor ...\n",
    "\n",
    "class TwitterUser(object):\n",
    "    \n",
    "    def __init__(self, handle, tweets):\n",
    "        self.handle = handle\n",
    "        self._tweets = tweets\n",
    "        \n",
    "    def __len__(self):\n",
    "        return len(self._tweets)\n",
    "    \n",
    "    def __getitem__(self, position):\n",
    "        return self._tweets[position]"
   ]
  },
  {
   "cell_type": "code",
   "execution_count": 155,
   "metadata": {
    "collapsed": true
   },
   "outputs": [],
   "source": [
    "bob = TwitterUser(\n",
    "    Handle('bbelderbos', shared_handle='pybites'), tweets\n",
    ")"
   ]
  },
  {
   "cell_type": "code",
   "execution_count": 156,
   "metadata": {
    "collapsed": false
   },
   "outputs": [
    {
     "data": {
      "text/plain": [
       "5"
      ]
     },
     "execution_count": 156,
     "metadata": {},
     "output_type": "execute_result"
    }
   ],
   "source": [
    "# implementing len we can call it on the object like this: \n",
    "\n",
    "len(bob)"
   ]
  },
  {
   "cell_type": "code",
   "execution_count": 157,
   "metadata": {
    "collapsed": false
   },
   "outputs": [
    {
     "data": {
      "text/plain": [
       "Tweet(time='2017-01-25 08:45:00', text='Teaching Python today, feels great', likes=3)"
      ]
     },
     "execution_count": 157,
     "metadata": {},
     "output_type": "execute_result"
    }
   ],
   "source": [
    "# implementing getitem we can get tweets by index\n",
    "\n",
    "bob[0]"
   ]
  },
  {
   "cell_type": "code",
   "execution_count": 158,
   "metadata": {
    "collapsed": false
   },
   "outputs": [
    {
     "data": {
      "text/plain": [
       "(Tweet(time='2017-01-25 10:45:00', text='Doing code challenge 03, learning a lot', likes=5),\n",
       " Tweet(time='2017-01-25 12:45:00', text='Done with code challenge 03', likes=1))"
      ]
     },
     "execution_count": 158,
     "metadata": {},
     "output_type": "execute_result"
    }
   ],
   "source": [
    "# or with a slice\n",
    "\n",
    "bob[-2:]"
   ]
  },
  {
   "cell_type": "code",
   "execution_count": 159,
   "metadata": {
    "collapsed": false
   },
   "outputs": [
    {
     "name": "stdout",
     "output_type": "stream",
     "text": [
      "Tweet(time='2017-01-25 08:45:00', text='Teaching Python today, feels great', likes=3)\n",
      "Tweet(time='2017-01-25 09:45:00', text='Writing a post on the Python data model', likes=2)\n",
      "Tweet(time='2017-01-25 07:45:00', text='from __future__ import braces ... not a chance', likes=10)\n",
      "Tweet(time='2017-01-25 10:45:00', text='Doing code challenge 03, learning a lot', likes=5)\n",
      "Tweet(time='2017-01-25 12:45:00', text='Done with code challenge 03', likes=1)\n"
     ]
    }
   ],
   "source": [
    "# wow implementing __getitem__ bob turns into an iterable!\n",
    "\n",
    "for tw in bob:\n",
    "    print(tw)"
   ]
  },
  {
   "cell_type": "code",
   "execution_count": 161,
   "metadata": {
    "collapsed": false
   },
   "outputs": [
    {
     "data": {
      "text/plain": [
       "Tweet(time='2017-01-25 08:45:00', text='Teaching Python today, feels great', likes=3)"
      ]
     },
     "execution_count": 161,
     "metadata": {},
     "output_type": "execute_result"
    }
   ],
   "source": [
    "# and can be passed as a sequence object to other builtins\n",
    "\n",
    "random.choice(bob)"
   ]
  },
  {
   "cell_type": "code",
   "execution_count": 162,
   "metadata": {
    "collapsed": false
   },
   "outputs": [
    {
     "name": "stdout",
     "output_type": "stream",
     "text": [
      "Tweet(time='2017-01-25 07:45:00', text='from __future__ import braces ... not a chance', likes=10)\n",
      "Tweet(time='2017-01-25 10:45:00', text='Doing code challenge 03, learning a lot', likes=5)\n",
      "Tweet(time='2017-01-25 08:45:00', text='Teaching Python today, feels great', likes=3)\n",
      "Tweet(time='2017-01-25 09:45:00', text='Writing a post on the Python data model', likes=2)\n",
      "Tweet(time='2017-01-25 12:45:00', text='Done with code challenge 03', likes=1)\n"
     ]
    }
   ],
   "source": [
    "# or give it to sorted so we can use its key arg to sort by most likes\n",
    "# easter eggs are well received :)\n",
    "\n",
    "for tw in sorted(bob, key=lambda x: x.likes, reverse=True):\n",
    "    print(tw)"
   ]
  },
  {
   "cell_type": "markdown",
   "metadata": {},
   "source": [
    "### Conclusion\n",
    "\n",
    "A real eye-opener reading Fluent Python: by only implementing \\_\\_len\\_\\_() and \\_\\_getitem\\_\\_() we got nice features like slicing and iteration out of the box!"
   ]
  },
  {
   "cell_type": "markdown",
   "metadata": {},
   "source": [
    "## But there is more ..."
   ]
  },
  {
   "cell_type": "code",
   "execution_count": 163,
   "metadata": {
    "collapsed": true
   },
   "outputs": [],
   "source": [
    "# making another user\n",
    "tweets2 = (\n",
    "    Tweet('2017-01-25 10:46:00', 'Writing a blog post on a cool new module I discovered', 5),\n",
    "    Tweet('2017-01-25 12:46:00', 'Learning some Python today, feeling great', 15),\n",
    ")\n",
    "julian = TwitterUser(\n",
    "    Handle('techmoneykids', shared_handle='pybites'), tweets2\n",
    ")"
   ]
  },
  {
   "cell_type": "code",
   "execution_count": 164,
   "metadata": {
    "collapsed": false
   },
   "outputs": [
    {
     "ename": "TypeError",
     "evalue": "unsupported operand type(s) for +: 'TwitterUser' and 'TwitterUser'",
     "output_type": "error",
     "traceback": [
      "\u001b[0;31m---------------------------------------------------------------------------\u001b[0m",
      "\u001b[0;31mTypeError\u001b[0m                                 Traceback (most recent call last)",
      "\u001b[0;32m<ipython-input-164-08fc7fe18fd0>\u001b[0m in \u001b[0;36m<module>\u001b[0;34m()\u001b[0m\n\u001b[1;32m      2\u001b[0m \u001b[0;31m# however this does not work out of the box\u001b[0m\u001b[0;34m\u001b[0m\u001b[0;34m\u001b[0m\u001b[0m\n\u001b[1;32m      3\u001b[0m \u001b[0;34m\u001b[0m\u001b[0m\n\u001b[0;32m----> 4\u001b[0;31m \u001b[0mbob\u001b[0m \u001b[0;34m+\u001b[0m \u001b[0mjulian\u001b[0m\u001b[0;34m\u001b[0m\u001b[0m\n\u001b[0m",
      "\u001b[0;31mTypeError\u001b[0m: unsupported operand type(s) for +: 'TwitterUser' and 'TwitterUser'"
     ]
    }
   ],
   "source": [
    "# I want to be able to merge tweets, just as we can do with lists: [1] + [2,3] = [1,2,3]\n",
    "# however this does not work out of the box\n",
    "\n",
    "bob + julian"
   ]
  },
  {
   "cell_type": "code",
   "execution_count": 166,
   "metadata": {
    "collapsed": true
   },
   "outputs": [],
   "source": [
    "# we can make this work implementing __add__()\n",
    "\n",
    "class IncompatibleHandle(Exception):\n",
    "    pass\n",
    "\n",
    "class TwitterUser(object):\n",
    "    \n",
    "    def __init__(self, handle, tweets):\n",
    "        self.handle = handle\n",
    "        self.tweets = tweets  # making interfacce public as we need it in __add__\n",
    "        \n",
    "    def __len__(self):\n",
    "        return len(self.tweets)\n",
    "    \n",
    "    def __getitem__(self, position):\n",
    "        return self.tweets[position]\n",
    "    \n",
    "    def __add__(self, other):\n",
    "        if self.handle.shared_handle != other.handle.shared_handle:\n",
    "            raise IncompatibleHandle('Not the same shared handle, cannot merge tweets')\n",
    "        all_tweets = self.tweets + other.tweets\n",
    "        return TwitterUser(self.handle.shared_handle, all_tweets)\n",
    "    \n",
    "    # adding object string representation methods\n",
    "    def __repr__(self):\n",
    "        return 'TwitterUser(%r, %r)' % (self.handle, self.tweets)\n",
    "    \n",
    "    # difference between the repr and str: \n",
    "    # http://stackoverflow.com/questions/1436703/difference-between-str-and-repr-in-python\n",
    "    def __str__(self):\n",
    "        return '{} => likes: {} for {} tweets = {:.1f} avg'.format(\n",
    "            self.handle, self.total_likes(), \n",
    "            len(self), self.avg_likes()\n",
    "        )\n",
    "    \n",
    "    # adding some public methods to show later on that the merged object behaves just as its parts\n",
    "    def total_likes(self):\n",
    "        return sum(tw.likes for tw in self.tweets)\n",
    "    \n",
    "    def avg_likes(self):\n",
    "        return self.total_likes() / len(self)"
   ]
  },
  {
   "cell_type": "code",
   "execution_count": 168,
   "metadata": {
    "collapsed": false
   },
   "outputs": [],
   "source": [
    "# need to create bob, julian again using the rewritten class \n",
    "\n",
    "bob = TwitterUser(\n",
    "    Handle('bbelderbos', shared_handle='pybites'), tweets\n",
    ")\n",
    "julian = TwitterUser(\n",
    "    Handle('techmoneykids', shared_handle='pybites'), tweets2\n",
    ")\n",
    "# lets also add a not-compatible handle\n",
    "stranger = TwitterUser(\n",
    "    Handle('someblogger', shared_handle='stranger'), tweets2\n",
    ")"
   ]
  },
  {
   "cell_type": "code",
   "execution_count": 169,
   "metadata": {
    "collapsed": false
   },
   "outputs": [],
   "source": [
    "# now it works, thanks to __add__ \n",
    "\n",
    "pybites = bob + julian"
   ]
  },
  {
   "cell_type": "code",
   "execution_count": 170,
   "metadata": {
    "collapsed": false
   },
   "outputs": [
    {
     "name": "stdout",
     "output_type": "stream",
     "text": [
      "Tweet(time='2017-01-25 12:46:00', text='Learning some Python today, feeling great', likes=15)\n",
      "Tweet(time='2017-01-25 07:45:00', text='from __future__ import braces ... not a chance', likes=10)\n",
      "Tweet(time='2017-01-25 10:45:00', text='Doing code challenge 03, learning a lot', likes=5)\n",
      "Tweet(time='2017-01-25 10:46:00', text='Writing a blog post on a cool new module I discovered', likes=5)\n",
      "Tweet(time='2017-01-25 08:45:00', text='Teaching Python today, feels great', likes=3)\n",
      "Tweet(time='2017-01-25 09:45:00', text='Writing a post on the Python data model', likes=2)\n",
      "Tweet(time='2017-01-25 12:45:00', text='Done with code challenge 03', likes=1)\n"
     ]
    }
   ],
   "source": [
    "# our tweets are merged, glad to have Julian most liked tweet now ;)\n",
    "\n",
    "for tw in sorted(pybites, key=lambda x: x.likes, reverse=True):\n",
    "    print(tw)"
   ]
  },
  {
   "cell_type": "code",
   "execution_count": 171,
   "metadata": {
    "collapsed": false
   },
   "outputs": [
    {
     "ename": "IncompatibleHandle",
     "evalue": "Not the same shared handle, cannot merge tweets",
     "output_type": "error",
     "traceback": [
      "\u001b[0;31m---------------------------------------------------------------------------\u001b[0m",
      "\u001b[0;31mIncompatibleHandle\u001b[0m                        Traceback (most recent call last)",
      "\u001b[0;32m<ipython-input-171-9ee66cd5c34d>\u001b[0m in \u001b[0;36m<module>\u001b[0;34m()\u001b[0m\n\u001b[1;32m      1\u001b[0m \u001b[0;31m# but stranger is not part of pybites, so custom exception is raised (as implemented in __add__)\u001b[0m\u001b[0;34m\u001b[0m\u001b[0;34m\u001b[0m\u001b[0m\n\u001b[1;32m      2\u001b[0m \u001b[0;34m\u001b[0m\u001b[0m\n\u001b[0;32m----> 3\u001b[0;31m \u001b[0mbob\u001b[0m \u001b[0;34m+\u001b[0m \u001b[0mstranger\u001b[0m\u001b[0;34m\u001b[0m\u001b[0m\n\u001b[0m",
      "\u001b[0;32m<ipython-input-166-d86635054781>\u001b[0m in \u001b[0;36m__add__\u001b[0;34m(self, other)\u001b[0m\n\u001b[1;32m     18\u001b[0m     \u001b[0;32mdef\u001b[0m \u001b[0m__add__\u001b[0m\u001b[0;34m(\u001b[0m\u001b[0mself\u001b[0m\u001b[0;34m,\u001b[0m \u001b[0mother\u001b[0m\u001b[0;34m)\u001b[0m\u001b[0;34m:\u001b[0m\u001b[0;34m\u001b[0m\u001b[0m\n\u001b[1;32m     19\u001b[0m         \u001b[0;32mif\u001b[0m \u001b[0mself\u001b[0m\u001b[0;34m.\u001b[0m\u001b[0mhandle\u001b[0m\u001b[0;34m.\u001b[0m\u001b[0mshared_handle\u001b[0m \u001b[0;34m!=\u001b[0m \u001b[0mother\u001b[0m\u001b[0;34m.\u001b[0m\u001b[0mhandle\u001b[0m\u001b[0;34m.\u001b[0m\u001b[0mshared_handle\u001b[0m\u001b[0;34m:\u001b[0m\u001b[0;34m\u001b[0m\u001b[0m\n\u001b[0;32m---> 20\u001b[0;31m             \u001b[0;32mraise\u001b[0m \u001b[0mIncompatibleHandle\u001b[0m\u001b[0;34m(\u001b[0m\u001b[0;34m'Not the same shared handle, cannot merge tweets'\u001b[0m\u001b[0;34m)\u001b[0m\u001b[0;34m\u001b[0m\u001b[0m\n\u001b[0m\u001b[1;32m     21\u001b[0m         \u001b[0mall_tweets\u001b[0m \u001b[0;34m=\u001b[0m \u001b[0mself\u001b[0m\u001b[0;34m.\u001b[0m\u001b[0mtweets\u001b[0m \u001b[0;34m+\u001b[0m \u001b[0mother\u001b[0m\u001b[0;34m.\u001b[0m\u001b[0mtweets\u001b[0m\u001b[0;34m\u001b[0m\u001b[0m\n\u001b[1;32m     22\u001b[0m         \u001b[0;32mreturn\u001b[0m \u001b[0mTwitterUser\u001b[0m\u001b[0;34m(\u001b[0m\u001b[0mself\u001b[0m\u001b[0;34m.\u001b[0m\u001b[0mhandle\u001b[0m\u001b[0;34m.\u001b[0m\u001b[0mshared_handle\u001b[0m\u001b[0;34m,\u001b[0m \u001b[0mall_tweets\u001b[0m\u001b[0;34m)\u001b[0m\u001b[0;34m\u001b[0m\u001b[0m\n",
      "\u001b[0;31mIncompatibleHandle\u001b[0m: Not the same shared handle, cannot merge tweets"
     ]
    }
   ],
   "source": [
    "# but stranger is not part of pybites, so custom exception is raised (as implemented in __add__)\n",
    "\n",
    "bob + stranger"
   ]
  },
  {
   "cell_type": "code",
   "execution_count": 172,
   "metadata": {
    "collapsed": false
   },
   "outputs": [
    {
     "name": "stdout",
     "output_type": "stream",
     "text": [
      "bbelderbos (shared handle: pybites) => likes: 21 for 5 tweets = 4.2 avg\n"
     ]
    }
   ],
   "source": [
    "# print on object calls the underlying __str__ which we used to print some stats\n",
    "# also notes it embeds the __str__ of the Handle object\n",
    "\n",
    "print(bob)"
   ]
  },
  {
   "cell_type": "code",
   "execution_count": 173,
   "metadata": {
    "collapsed": false
   },
   "outputs": [
    {
     "name": "stdout",
     "output_type": "stream",
     "text": [
      "techmoneykids (shared handle: pybites) => likes: 20 for 2 tweets = 10.0 avg\n"
     ]
    }
   ],
   "source": [
    "# Julian is definitely more influential than me :) \n",
    "\n",
    "print(julian)"
   ]
  },
  {
   "cell_type": "code",
   "execution_count": 174,
   "metadata": {
    "collapsed": false
   },
   "outputs": [
    {
     "name": "stdout",
     "output_type": "stream",
     "text": [
      "pybites => likes: 41 for 7 tweets = 5.9 avg\n"
     ]
    }
   ],
   "source": [
    "# ... improving the average\n",
    "\n",
    "print(pybites)"
   ]
  }
 ],
 "metadata": {
  "kernelspec": {
   "display_name": "jupyter Python 3.4",
   "language": "python",
   "name": "jupyter python 3.4"
  },
  "language_info": {
   "codemirror_mode": {
    "name": "ipython",
    "version": 3
   },
   "file_extension": ".py",
   "mimetype": "text/x-python",
   "name": "python",
   "nbconvert_exporter": "python",
   "pygments_lexer": "ipython3",
   "version": "3.5.1"
  }
 },
 "nbformat": 4,
 "nbformat_minor": 0
}
