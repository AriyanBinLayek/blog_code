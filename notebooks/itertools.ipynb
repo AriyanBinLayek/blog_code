{
 "cells": [
  {
   "cell_type": "code",
   "execution_count": 91,
   "metadata": {
    "collapsed": true
   },
   "outputs": [],
   "source": [
    "import itertools\n",
    "import random\n",
    "from collections import Counter\n",
    "from operator import itemgetter"
   ]
  },
  {
   "cell_type": "markdown",
   "metadata": {},
   "source": [
    "# 1. Use product to get all combinations between two iterators"
   ]
  },
  {
   "cell_type": "code",
   "execution_count": 92,
   "metadata": {
    "collapsed": true
   },
   "outputs": [],
   "source": [
    "ranks = [str(n) for n in range(2, 11)] + list('JQKA')"
   ]
  },
  {
   "cell_type": "code",
   "execution_count": 93,
   "metadata": {
    "collapsed": true
   },
   "outputs": [],
   "source": [
    "suits = 'S D C H'.split() # spades diamonds clubs hearts"
   ]
  },
  {
   "cell_type": "code",
   "execution_count": 94,
   "metadata": {
    "collapsed": false
   },
   "outputs": [
    {
     "name": "stdout",
     "output_type": "stream",
     "text": [
      "['S2', 'S3', 'S4']\n",
      "['HQ', 'HK', 'HA']\n"
     ]
    }
   ],
   "source": [
    "# double list comprehension as in fluent Python book\n",
    "cards = ['{}{}'.format(suit, rank) for suit in suits for rank in ranks]\n",
    "print(cards[:3]); print(cards[-3:])"
   ]
  },
  {
   "cell_type": "code",
   "execution_count": 95,
   "metadata": {
    "collapsed": false
   },
   "outputs": [
    {
     "data": {
      "text/plain": [
       "52"
      ]
     },
     "execution_count": 95,
     "metadata": {},
     "output_type": "execute_result"
    }
   ],
   "source": [
    "len(cards)"
   ]
  },
  {
   "cell_type": "code",
   "execution_count": 114,
   "metadata": {
    "collapsed": false
   },
   "outputs": [],
   "source": [
    "# alternative way = itertools.product\n",
    "cards2 = ['{}{}'.format(*p) for p in itertools.product(suits, ranks)]"
   ]
  },
  {
   "cell_type": "code",
   "execution_count": 97,
   "metadata": {
    "collapsed": false
   },
   "outputs": [
    {
     "data": {
      "text/plain": [
       "52"
      ]
     },
     "execution_count": 97,
     "metadata": {},
     "output_type": "execute_result"
    }
   ],
   "source": [
    "len(cards2)"
   ]
  },
  {
   "cell_type": "code",
   "execution_count": 98,
   "metadata": {
    "collapsed": false
   },
   "outputs": [],
   "source": [
    "assert cards2 == cards"
   ]
  },
  {
   "cell_type": "code",
   "execution_count": 99,
   "metadata": {
    "collapsed": false
   },
   "outputs": [
    {
     "name": "stdout",
     "output_type": "stream",
     "text": [
      "(5, 2)\n",
      "(2, 5)\n",
      "(2, 5)\n",
      "(6, 5)\n"
     ]
    }
   ],
   "source": [
    "# or use itertools to roll two dices\n",
    "# http://stackoverflow.com/questions/3099987/generating-permutations-with-repetitions-in-python\n",
    "dice = range(1, 7)\n",
    "for _ in range(4):\n",
    "    roll = random.choice([p for p in itertools.product(dice, repeat=2)])\n",
    "    print(roll)"
   ]
  },
  {
   "cell_type": "markdown",
   "metadata": {},
   "source": [
    "## 2. Show a progress spinner for a console app"
   ]
  },
  {
   "cell_type": "markdown",
   "metadata": {},
   "source": [
    "From [this awesome itertools preso](https://github.com/vterron/EuroPython-2016/blob/master/kung-fu-itertools.ipynb)"
   ]
  },
  {
   "cell_type": "code",
   "execution_count": 100,
   "metadata": {
    "collapsed": false
   },
   "outputs": [
    {
     "name": "stdout",
     "output_type": "stream",
     "text": [
      "Please wait... \\\n"
     ]
    }
   ],
   "source": [
    "import itertools\n",
    "import sys\n",
    "import time\n",
    "\n",
    "def spinner(seconds):\n",
    "    \"\"\"Show an animated spinner while we sleep.\"\"\"\n",
    "    symbols = itertools.cycle('-\\|/')\n",
    "    tend = time.time() + seconds\n",
    "    while time.time() < tend:\n",
    "        # '\\r' is carriage return: return cursor to the start of the line.\n",
    "        sys.stdout.write('\\rPlease wait... ' + next(symbols)) # no newline\n",
    "        sys.stdout.flush()\n",
    "        time.sleep(0.1)\n",
    "    print() # newline\n",
    "\n",
    "if __name__ == \"__main__\":\n",
    "    spinner(3)"
   ]
  },
  {
   "cell_type": "markdown",
   "metadata": {},
   "source": [
    "## 3. Use dropwhile to get counts of >= n in a Counter dict\n",
    "\n",
    "From a [code kata](http://bobbelderbos.com/2016/12/code-kata/) I did: get only books that occurred 2 or more times."
   ]
  },
  {
   "cell_type": "code",
   "execution_count": 101,
   "metadata": {
    "collapsed": false
   },
   "outputs": [],
   "source": [
    "books = Counter({'atlas-shrugged-ayn-rand': 3,\n",
    "         'tao-te-ching-laozi': 3,\n",
    "         'influence-psychology-persuasion-robert-cialdini': 2,\n",
    "         'black-swan-improbable-robustness-fragility': 2,\n",
    "         'zero-one-notes-startups-future': 2,\n",
    "         'hard-thing-about-things-building': 2,\n",
    "         'unbearable-lightness-being-milan-kundera': 2,\n",
    "         'alchemist-paulo-coelho': 2,\n",
    "         'hour-body-uncommon-incredible-superhuman': 2,\n",
    "         '4-hour-workweek-escape-live-anywhere': 2,\n",
    "         'drama-gifted-child-search-revised': 2,\n",
    "         'shogun-james-clavell': 2,\n",
    "         'checklist-manifesto-how-things-right': 2,\n",
    "         'sapiens-humankind-yuval-noah-harari': 2,\n",
    "         'war-art-through-creative-battles': 2,\n",
    "         'what-makes-sammy-budd-schulberg': 2,\n",
    "         'mindset-psychology-carol-s-dweck': 2,\n",
    "         'jesus-son-stories-denis-johnson': 1,\n",
    "         'kite-runner-khaled-hosseini': 1,\n",
    "         'thousand-splendid-suns-khaled-hosseini': 1,\n",
    "         'antifragile-things-that-disorder-incerto': 1,\n",
    "         'fooled-randomness-hidden-markets-incerto': 1,\n",
    "         'brain-rules-principles-surviving-thriving': 1,\n",
    "         'outliers-story-success-malcolm-gladwell': 1,\n",
    "         'freakonomics-economist-explores-hidden-everything': 1,\n",
    "         'high-output-management-andrew-grove': 1,\n",
    "         'only-paranoid-survive-exploit-challenge': 1,\n",
    "         'walt-disney-triumph-american-imagination': 1,\n",
    "         'schulz-peanuts-biography-david-michaelis': 1,\n",
    "         'wizard-menlo-park-thomas-invented': 1,\n",
    "         'born-standing-up-comics-life': 1,\n",
    "         'mistakes-were-made-but-not': 1,\n",
    "         'surely-feynman-adventures-curious-character': 1,\n",
    "         '10-happier-self-help-actually-works': 1,\n",
    "         'book-virtues-william-j-bennett': 1,\n",
    "         'winners-never-cheat-difficult-expanded': 1,\n",
    "         'coan-man-myth-method-powerlifter-ebook': 1,\n",
    "         'lifes-little-instruction-book-observations': 1,\n",
    "         'fans-notes-frederick-exley': 1,\n",
    "         'crossroads-should-must-follow-passion': 1,\n",
    "         'promise-sleep-medicine-connection-happiness': 1,\n",
    "         'house-leaves-mark-z-danielewski': 1,\n",
    "         'musicophilia-tales-music-revised-expanded': 1,\n",
    "         'waking-up-spirituality-without-religion': 1,\n",
    "         'this-your-brain-music-obsession': 1,\n",
    "         'excellent-sheep-miseducation-american-meaningful': 1,\n",
    "         'fountainhead-ayn-rand': 1,\n",
    "         'thousand-faces-collected-joseph-campbell': 1,\n",
    "         'genealogy-morals-oxford-worlds-classics': 1,\n",
    "         'art-learning-journey-optimal-performance': 1,\n",
    "         'bad-science-quacks-pharma-flacks': 1,\n",
    "         'bad-pharma-companies-mislead-patients': 1,\n",
    "         'fiasco-american-military-adventure-iraq': 1,\n",
    "         'looming-tower-al-qaeda-road-11': 1,\n",
    "         'going-clear-scientology-hollywood-prison': 1,\n",
    "         'plato-symposium-benjamin-jowett': 1,\n",
    "         'musashi-epic-novel-samurai-era': 1,\n",
    "         'guide-ching-carol-k-anthony': 1,\n",
    "         'missoula-rape-justice-system-college': 1,\n",
    "         'how-movie-star-elizabeth-hollywood': 1,\n",
    "         'super-sad-true-love-story': 1,\n",
    "         'fantasy-bond-structure-psychological-defenses': 1,\n",
    "         'continuum-concept-happiness-classics-development': 1,\n",
    "         'personal-power-classic-anthony-robbins': 1,\n",
    "         'tripping-over-truth-metabolic-illuminates': 1,\n",
    "         'language-god-scientist-presents-evidence': 1,\n",
    "         'screwtape-letters-c-s-lewis': 1,\n",
    "         'cancer-metabolic-disease-management-prevention': 1,\n",
    "         'complete-essays-montaigne-illustrated-ebook': 1,\n",
    "         'search-lost-time-proust-complete': 1,\n",
    "         'minute-manager-kenneth-blanchard-ph-d': 1,\n",
    "         'levels-game-john-mcphee': 1,\n",
    "         'empty-pot-owlet-book': 1,\n",
    "         'national-geographic-field-guide-america': 1,\n",
    "         'pihkal-chemical-story-alexander-shulgin': 1,\n",
    "         'tihkal-continuation-alexander-shulgin': 1,\n",
    "         'writers-journey-mythic-structure-3rd': 1,\n",
    "         'would-nice-you-werent-here': 1,\n",
    "         'hobbit-j-r-tolkien': 1,\n",
    "         'kitchen-confidential-updated-adventures-underbelly': 1,\n",
    "         'without-sanctuary-lynching-photography-america': 1,\n",
    "         'hundred-solitude-harper-perennial-classics': 1,\n",
    "         'between-world-me-ta-nehisi-coates': 1,\n",
    "         'speak-like-churchill-stand-lincoln': 1,\n",
    "         'feast-snakes-novel-harry-crews': 1,\n",
    "         'car-novel-harry-crews': 1,\n",
    "         'dont-make-me-think-usability': 1,\n",
    "         'how-measure-anything-intangibles-business': 1,\n",
    "         'how-not-be-wrong-mathematical': 1,\n",
    "         'getting-yes-negotiating-agreement-without': 1,\n",
    "         'foundation-isaac-asimov': 1,\n",
    "         'reality-dysfunction-nights-dawn': 1,\n",
    "         'mountain-light-search-dynamic-landscape': 1,\n",
    "         'strangers-ourselves-discovering-adaptive-unconscious': 1,\n",
    "         'merchant-princes-intimate-families-department': 1,\n",
    "         'tinker-tailor-soldier-spy-george': 1,\n",
    "         'little-drummer-girl-novel': 1,\n",
    "         'russia-house-novel-john-carre': 1,\n",
    "         'spy-who-came-cold-george': 1,\n",
    "         'big-short-inside-doomsday-machine': 1,\n",
    "         'lee-child': 1,\n",
    "         'natural-born-heroes-mastering-endurance': 1,\n",
    "         'hobbit-lord-rings-fellowship-towers': 1,\n",
    "         'deep-survival-who-lives-dies': 1,\n",
    "         'jonathan-livingston-seagull-richard-bach': 1,\n",
    "         'dune-frank-herbert': 1,\n",
    "         'conscious-business-build-through-values': 1,\n",
    "         'meditations-modern-library-classics-aurelius': 1,\n",
    "         'titan-life-john-rockefeller-sr': 1,\n",
    "         'how-live-montaigne-question-attempts': 1,\n",
    "         'fish-that-ate-whale-americas': 1,\n",
    "         'tough-jews-fathers-gangster-dreams': 1,\n",
    "         'edison-biography-matthew-josephson': 1,\n",
    "         'ulysses-s-grant-adversity-1822-1865': 1,\n",
    "         'fahrenheit-451-ray-bradbury': 1,\n",
    "         'play-fields-lord-peter-matthiessen': 1,\n",
    "         'lights-out-cyberattack-unprepared-surviving': 1,\n",
    "         'artists-way-morning-pages-journal': 1,\n",
    "         'once-eagle-anton-myrer': 1,\n",
    "         'road-character-david-brooks': 1,\n",
    "         'its-not-how-good-want': 1,\n",
    "         'second-world-war-john-keegan': 1,\n",
    "         'autobiography-malcolm-told-alex-haley': 1,\n",
    "         'prophet-borzoi-book-kahlil-gibran': 1,\n",
    "         'wind-sand-stars-harvest-book': 1,\n",
    "         'buddhism-without-beliefs-contemporary-awakening': 1,\n",
    "         'search-modern-china-jonathan-spence': 1,\n",
    "         'death-woman-wang-jonathan-spence': 1,\n",
    "         'founders-work-stories-startups-early': 1,\n",
    "         'masters-doom-created-transformed-culture': 1,\n",
    "         'still-writing-perils-pleasures-creative': 1,\n",
    "         'shortness-life-penguin-great-ideas': 1,\n",
    "         'republic-plato': 1,\n",
    "         'move-life-oliver-sacks': 1,\n",
    "         'journal-thoreau-1837-1861-review-classics': 1,\n",
    "         'rap-race-james-baldwin': 1,\n",
    "         'science-necessity-love-god-essays': 1,\n",
    "         'stumbling-happiness-daniel-gilbert': 1,\n",
    "         'desert-solitaire-wilderness-edward-abbey': 1,\n",
    "         'gathering-moss-natural-cultural-history': 1,\n",
    "         'i-capture-castle-dodie-smith': 1,\n",
    "         'complete-short-stories-ernest-hemingway': 1,\n",
    "         'man-thinketh-life-changing-classics-pamphlet': 1,\n",
    "         'mans-search-meaning-viktor-frankl': 1,\n",
    "         'fourth-turning-american-prophecy-rendezvous': 1,\n",
    "         'generations-history-americas-future-1584': 1,\n",
    "         'slow-sex-craft-female-orgasm': 1,\n",
    "         'start-why-leaders-inspire-everyone': 1,\n",
    "         'miracle-mindfulness-introduction-practice-meditation': 1,\n",
    "         'wisdom-crowds-james-surowiecki': 1,\n",
    "         'wherever-you-go-there-are': 1,\n",
    "         'churchill-factor-how-made-history': 1,\n",
    "         'free-choose-statement-milton-friedman': 1,\n",
    "         'california-history-modern-library-chronicles': 1,\n",
    "         'age-propaganda-everyday-abuse-persuasion': 1,\n",
    "         'social-animal-sources-character-achievement': 1,\n",
    "         'getting-everything-you-can-youve': 1,\n",
    "         'mindless-eating-more-than-think': 1,\n",
    "         'robert-collier-letter-book': 1,\n",
    "         'never-eat-alone-expanded-updated': 1,\n",
    "         'what-teach-harvard-business-school': 1,\n",
    "         'iacocca-autobiography-lee': 1,\n",
    "         'techgnosis-myth-magic-mysticism-information': 1,\n",
    "         'rise-superman-decoding-ultimate-performance': 1,\n",
    "         'cocktail-techniques-kazuo-uyeda': 1,\n",
    "         'obstacle-way-timeless-turning-triumph': 1,\n",
    "         'robert-heinlein': 1,\n",
    "         'what-buddha-taught-expanded-dhammapada': 1,\n",
    "         'buddhas-words-anthology-discourses-teachings': 1,\n",
    "         'things-hidden-since-foundation-world': 1,\n",
    "         'road-jack-kerouac': 1,\n",
    "         'dharma-bums-jack-kerouac': 1,\n",
    "         'zen-art-motorcycle-maintenance-inquiry': 1,\n",
    "         'shantaram-novel-gregory-david-roberts': 1,\n",
    "         'whom-bell-tolls-ernest-hemingway': 1,\n",
    "         'old-man-sea-ernest-hemingway': 1,\n",
    "         'green-hills-africa-hemingway-library': 1,\n",
    "         'ernest-hemingway-writing-larry-phillips': 1,\n",
    "         'dreaming-yourself-awake-tibetan-transformation': 1,\n",
    "         'tribe-homecoming-belonging-sebastian-junger': 1,\n",
    "         'grit-passion-perseverance-angela-duckworth': 1,\n",
    "         'peak-secrets-new-science-expertise-ebook': 1,\n",
    "         'about-face-odyssey-american-warrior': 1,\n",
    "         'blood-meridian-evening-redness-west': 1,\n",
    "         'tools-titans-billionaires-world-class-performers': 1})"
   ]
  },
  {
   "cell_type": "code",
   "execution_count": 104,
   "metadata": {
    "collapsed": false
   },
   "outputs": [
    {
     "data": {
      "text/plain": [
       "Counter({1: 168, 2: 15, 3: 2})"
      ]
     },
     "execution_count": 104,
     "metadata": {},
     "output_type": "execute_result"
    }
   ],
   "source": [
    "Counter(books.values())"
   ]
  },
  {
   "cell_type": "code",
   "execution_count": 105,
   "metadata": {
    "collapsed": true
   },
   "outputs": [],
   "source": [
    "# I want to discard books that appeared 1 time (168x), so only take >= 2 book counts\n",
    "def get_multiple_mentions(books, keep=2):\n",
    "    for key, count in itertools.dropwhile(lambda key_count: key_count[1] >= keep, books.most_common()):\n",
    "        del books[key]\n",
    "    return books"
   ]
  },
  {
   "cell_type": "code",
   "execution_count": 106,
   "metadata": {
    "collapsed": false
   },
   "outputs": [
    {
     "data": {
      "text/plain": [
       "Counter({'4-hour-workweek-escape-live-anywhere': 2,\n",
       "         'alchemist-paulo-coelho': 2,\n",
       "         'atlas-shrugged-ayn-rand': 3,\n",
       "         'black-swan-improbable-robustness-fragility': 2,\n",
       "         'checklist-manifesto-how-things-right': 2,\n",
       "         'drama-gifted-child-search-revised': 2,\n",
       "         'hard-thing-about-things-building': 2,\n",
       "         'hour-body-uncommon-incredible-superhuman': 2,\n",
       "         'influence-psychology-persuasion-robert-cialdini': 2,\n",
       "         'mindset-psychology-carol-s-dweck': 2,\n",
       "         'sapiens-humankind-yuval-noah-harari': 2,\n",
       "         'shogun-james-clavell': 2,\n",
       "         'tao-te-ching-laozi': 3,\n",
       "         'unbearable-lightness-being-milan-kundera': 2,\n",
       "         'war-art-through-creative-battles': 2,\n",
       "         'what-makes-sammy-budd-schulberg': 2,\n",
       "         'zero-one-notes-startups-future': 2})"
      ]
     },
     "execution_count": 106,
     "metadata": {},
     "output_type": "execute_result"
    }
   ],
   "source": [
    "books_filtered = get_multiple_mentions(books)\n",
    "assert sum(books_filtered.values()) == 36\n",
    "books_filtered"
   ]
  },
  {
   "cell_type": "markdown",
   "metadata": {},
   "source": [
    "## 4. Combinations and permutations\n",
    "\n",
    "The difference is well explained in this article: [Easy Permutations and Combinations](https://betterexplained.com/articles/easy-permutations-and-combinations/)"
   ]
  },
  {
   "cell_type": "code",
   "execution_count": 107,
   "metadata": {
    "collapsed": false
   },
   "outputs": [
    {
     "data": {
      "text/plain": [
       "['bob', 'tim', 'julian', 'fred']"
      ]
     },
     "execution_count": 107,
     "metadata": {},
     "output_type": "execute_result"
    }
   ],
   "source": [
    "friends = 'bob tim julian fred'.split()\n",
    "friends"
   ]
  },
  {
   "cell_type": "code",
   "execution_count": 108,
   "metadata": {
    "collapsed": false
   },
   "outputs": [
    {
     "data": {
      "text/plain": [
       "[('bob', 'tim'),\n",
       " ('bob', 'julian'),\n",
       " ('bob', 'fred'),\n",
       " ('tim', 'julian'),\n",
       " ('tim', 'fred'),\n",
       " ('julian', 'fred')]"
      ]
     },
     "execution_count": 108,
     "metadata": {},
     "output_type": "execute_result"
    }
   ],
   "source": [
    "# how many pairs can you form among 4 friends? \n",
    "list(itertools.combinations(friends, 2))"
   ]
  },
  {
   "cell_type": "code",
   "execution_count": 109,
   "metadata": {
    "collapsed": false
   },
   "outputs": [],
   "source": [
    "# if order would matter, you would get double results with permutations\n",
    "assert len(list(itertools.permutations(friends, 2))) == 12"
   ]
  },
  {
   "cell_type": "code",
   "execution_count": 117,
   "metadata": {
    "collapsed": false
   },
   "outputs": [
    {
     "data": {
      "text/plain": [
       "840"
      ]
     },
     "execution_count": 117,
     "metadata": {},
     "output_type": "execute_result"
    }
   ],
   "source": [
    "# how many 4 letter strings can you from 7 letters?\n",
    "import string\n",
    "letters = random.sample(string.ascii_uppercase, 7)\n",
    "len(list(itertools.permutations(letters, 4)))"
   ]
  },
  {
   "cell_type": "markdown",
   "metadata": {
    "collapsed": true
   },
   "source": [
    "## 5. Groupby to count amount of keys for specific value in dict\n",
    "\n",
    "Found this at [pymotw](https://pymotw.com/2/itertools/)\n",
    "Say you have a list of users with their preferred contact method, how do you get all email prefs easily?"
   ]
  },
  {
   "cell_type": "code",
   "execution_count": 111,
   "metadata": {
    "collapsed": false
   },
   "outputs": [
    {
     "data": {
      "text/plain": [
       "{'bob': 'phone',\n",
       " 'frank': 'email',\n",
       " 'fred': 'F2F',\n",
       " 'julian': 'IM',\n",
       " 'maria': 'phone',\n",
       " 'sue': 'email',\n",
       " 'tim': 'email'}"
      ]
     },
     "execution_count": 111,
     "metadata": {},
     "output_type": "execute_result"
    }
   ],
   "source": [
    "users = 'tim bob julian sue fred frank maria'.split()\n",
    "prefs = 'email phone IM email F2F email phone'.split()\n",
    "user_prefs = dict(zip(users, prefs))\n",
    "user_prefs"
   ]
  },
  {
   "cell_type": "code",
   "execution_count": 112,
   "metadata": {
    "collapsed": false
   },
   "outputs": [
    {
     "name": "stdout",
     "output_type": "stream",
     "text": [
      "F2F ['fred']\n",
      "IM ['julian']\n",
      "email ['frank', 'tim', 'sue']\n",
      "phone ['bob', 'maria']\n"
     ]
    }
   ],
   "source": [
    "user_prefs_sorted = sorted(user_prefs.items(), key=itemgetter(1))\n",
    "for pref, users in itertools.groupby(user_prefs_sorted, key=itemgetter(1)):\n",
    "    print(pref, list(map(itemgetter(0), users)))"
   ]
  }
 ],
 "metadata": {
  "kernelspec": {
   "display_name": "Python 3",
   "language": "python",
   "name": "python3"
  },
  "language_info": {
   "codemirror_mode": {
    "name": "ipython",
    "version": 3
   },
   "file_extension": ".py",
   "mimetype": "text/x-python",
   "name": "python",
   "nbconvert_exporter": "python",
   "pygments_lexer": "ipython3",
   "version": "3.5.2"
  }
 },
 "nbformat": 4,
 "nbformat_minor": 0
}
