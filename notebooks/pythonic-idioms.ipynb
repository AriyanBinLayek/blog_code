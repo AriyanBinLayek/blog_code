{
 "cells": [
  {
   "cell_type": "markdown",
   "metadata": {
    "deletable": true,
    "editable": true
   },
   "source": [
    "<div style=\"float: left;\">\n",
    "    <h1>PyBites Cheat Sheet<br><br>\n",
    "    <strong style=\"color: #900;\">10 Pythonic Tips</strong></h1>\n",
    "    <br><br>\n",
    "    <code>for i, tip in enumerate(pybites, 1): ... (= tip #0)<code>\n",
    "</div>\n",
    "<img style=\"float: right; width: 150px;\" alt=\"PyBites logo\" src=\"http://pybit.es/theme/img/profile-white.png\">\n"
   ]
  },
  {
   "cell_type": "code",
   "execution_count": 1,
   "metadata": {
    "collapsed": false,
    "deletable": true,
    "editable": true
   },
   "outputs": [
    {
     "data": {
      "text/plain": [
       "'3.6.0 (v3.6.0:41df79263a11, Dec 22 2016, 17:23:13) \\n[GCC 4.2.1 (Apple Inc. build 5666) (dot 3)]'"
      ]
     },
     "execution_count": 1,
     "metadata": {},
     "output_type": "execute_result"
    }
   ],
   "source": [
    "from collections import Counter, defaultdict, namedtuple\n",
    "import itertools\n",
    "from pprint import pprint as pp\n",
    "from string import ascii_lowercase\n",
    "import sys\n",
    "import time\n",
    "\n",
    "sys.version"
   ]
  },
  {
   "cell_type": "markdown",
   "metadata": {
    "deletable": true,
    "editable": true
   },
   "source": [
    "### 1. Manage resources using the with statement"
   ]
  },
  {
   "cell_type": "code",
   "execution_count": 2,
   "metadata": {
    "collapsed": false,
    "deletable": true,
    "editable": true
   },
   "outputs": [
    {
     "data": {
      "text/plain": [
       "['python', 'tips', 'tricks', 'resources', 'flask']"
      ]
     },
     "execution_count": 2,
     "metadata": {},
     "output_type": "execute_result"
    }
   ],
   "source": [
    "# also using it first to get some data for later use\n",
    "with open('tags.txt') as f:\n",
    "    tags = f.read().split()\n",
    "tags[:5]"
   ]
  },
  {
   "cell_type": "markdown",
   "metadata": {
    "deletable": true,
    "editable": true
   },
   "source": [
    "References: [PCC09](http://pybit.es/codechallenge09_review.html) (PCC = PyBites Code Challenge)"
   ]
  },
  {
   "cell_type": "markdown",
   "metadata": {
    "deletable": true,
    "editable": true
   },
   "source": [
    "### 2. Order a dict by value "
   ]
  },
  {
   "cell_type": "code",
   "execution_count": 3,
   "metadata": {
    "collapsed": true,
    "deletable": true,
    "editable": true
   },
   "outputs": [],
   "source": [
    "ages = {'julian': 20, 'bob': 23, 'zack': 3, 'anthony': 95, 'daniel': 41}"
   ]
  },
  {
   "cell_type": "code",
   "execution_count": 4,
   "metadata": {
    "collapsed": false,
    "deletable": true,
    "editable": true
   },
   "outputs": [
    {
     "data": {
      "text/plain": [
       "[('anthony', 95), ('daniel', 41), ('bob', 23), ('julian', 20), ('zack', 3)]"
      ]
     },
     "execution_count": 4,
     "metadata": {},
     "output_type": "execute_result"
    }
   ],
   "source": [
    "sorted(ages.items(), key=lambda x: x[1], reverse=True)"
   ]
  },
  {
   "cell_type": "markdown",
   "metadata": {
    "deletable": true,
    "editable": true
   },
   "source": [
    "Max/min also have the optional key argument:"
   ]
  },
  {
   "cell_type": "code",
   "execution_count": 5,
   "metadata": {
    "collapsed": false,
    "deletable": true,
    "editable": true
   },
   "outputs": [
    {
     "data": {
      "text/plain": [
       "('contextmanagers', 'hn')"
      ]
     },
     "execution_count": 5,
     "metadata": {},
     "output_type": "execute_result"
    }
   ],
   "source": [
    "# longest vs shortest tag\n",
    "max(tags, key=len), min(tags, key=len)"
   ]
  },
  {
   "cell_type": "markdown",
   "metadata": {
    "deletable": true,
    "editable": true
   },
   "source": [
    "References: [How to Order Dict Output](http://pybit.es/dict-ordering.html)"
   ]
  },
  {
   "cell_type": "markdown",
   "metadata": {
    "deletable": true,
    "editable": true
   },
   "source": [
    "### 3. Tuple unpacking niceness"
   ]
  },
  {
   "cell_type": "code",
   "execution_count": 6,
   "metadata": {
    "collapsed": true,
    "deletable": true,
    "editable": true
   },
   "outputs": [],
   "source": [
    "bob, julian = 'bob julian'.split()"
   ]
  },
  {
   "cell_type": "code",
   "execution_count": 7,
   "metadata": {
    "collapsed": false,
    "deletable": true,
    "editable": true
   },
   "outputs": [
    {
     "data": {
      "text/plain": [
       "('bob', 'julian')"
      ]
     },
     "execution_count": 7,
     "metadata": {},
     "output_type": "execute_result"
    }
   ],
   "source": [
    "bob, julian"
   ]
  },
  {
   "cell_type": "code",
   "execution_count": 8,
   "metadata": {
    "collapsed": true,
    "deletable": true,
    "editable": true
   },
   "outputs": [],
   "source": [
    "a, *b, c = [1, 2, 3, 4, 5]"
   ]
  },
  {
   "cell_type": "code",
   "execution_count": 9,
   "metadata": {
    "collapsed": false,
    "deletable": true,
    "editable": true
   },
   "outputs": [
    {
     "data": {
      "text/plain": [
       "(1, [2, 3, 4], 5)"
      ]
     },
     "execution_count": 9,
     "metadata": {},
     "output_type": "execute_result"
    }
   ],
   "source": [
    "a, b, c"
   ]
  },
  {
   "cell_type": "code",
   "execution_count": 10,
   "metadata": {
    "collapsed": true,
    "deletable": true,
    "editable": true
   },
   "outputs": [],
   "source": [
    "a = 'hello'\n",
    "b = 'world'\n",
    "a, b = b, a"
   ]
  },
  {
   "cell_type": "code",
   "execution_count": 11,
   "metadata": {
    "collapsed": false,
    "deletable": true,
    "editable": true
   },
   "outputs": [
    {
     "data": {
      "text/plain": [
       "('world', 'hello')"
      ]
     },
     "execution_count": 11,
     "metadata": {},
     "output_type": "execute_result"
    }
   ],
   "source": [
    "a, b"
   ]
  },
  {
   "cell_type": "code",
   "execution_count": 12,
   "metadata": {
    "collapsed": false,
    "deletable": true,
    "editable": true
   },
   "outputs": [
    {
     "name": "stdout",
     "output_type": "stream",
     "text": [
      "julian 20\n",
      "bob 23\n",
      "zack 3\n",
      "anthony 95\n",
      "daniel 41\n"
     ]
    }
   ],
   "source": [
    "for name, age in ages.items():\n",
    "    print(name, age)"
   ]
  },
  {
   "cell_type": "markdown",
   "metadata": {
    "deletable": true,
    "editable": true
   },
   "source": [
    "References: [Python Iteration](http://pybit.es/python_iteration.html), [Beautiful Python](http://pybit.es/beautiful-python.html), [Daily Python Tip](https://twitter.com/python_tip/status/836803438784700416)"
   ]
  },
  {
   "cell_type": "markdown",
   "metadata": {
    "deletable": true,
    "editable": true
   },
   "source": [
    "### 4. Combine collections with zip"
   ]
  },
  {
   "cell_type": "code",
   "execution_count": 13,
   "metadata": {
    "collapsed": false,
    "deletable": true,
    "editable": true
   },
   "outputs": [
    {
     "name": "stdout",
     "output_type": "stream",
     "text": [
      "julian    20\n",
      "bob       23\n",
      "zack      3\n",
      "anthony   95\n",
      "daniel    41\n"
     ]
    }
   ],
   "source": [
    "names = ('julian', 'bob', 'zack', 'anthony', 'daniel')\n",
    "ages = (20, 23, 3, 95, 41)\n",
    "for name, age in zip(names, ages):\n",
    "    print('{:<10}{}'.format(name, age))"
   ]
  },
  {
   "cell_type": "markdown",
   "metadata": {
    "deletable": true,
    "editable": true
   },
   "source": [
    "References: [Beautiful Python](http://pybit.es/beautiful-python.html), used a couple of times in [Matplotlib primer](http://pybit.es/matplotlib-starter.html)."
   ]
  },
  {
   "cell_type": "markdown",
   "metadata": {
    "deletable": true,
    "editable": true
   },
   "source": [
    "### 5. Collections.namedtuple"
   ]
  },
  {
   "cell_type": "markdown",
   "metadata": {
    "deletable": true,
    "editable": true
   },
   "source": [
    "Named tuples: readable, convenient, like classes without behavior:"
   ]
  },
  {
   "cell_type": "code",
   "execution_count": 14,
   "metadata": {
    "collapsed": false,
    "deletable": true,
    "editable": true
   },
   "outputs": [],
   "source": [
    "Tweet = namedtuple('Tweet', 'id_str created_at text')\n",
    "now = int(time.time())\n",
    "tweet = Tweet('123', now, 'Python is awesome')"
   ]
  },
  {
   "cell_type": "code",
   "execution_count": 15,
   "metadata": {
    "collapsed": true,
    "deletable": true,
    "editable": true
   },
   "outputs": [],
   "source": [
    "Item = namedtuple('Item', 'name value')\n",
    "item = Item('tv', 600)"
   ]
  },
  {
   "cell_type": "markdown",
   "metadata": {
    "deletable": true,
    "editable": true
   },
   "source": [
    "References: [PCC04](http://pybit.es/codechallenge04_review.html), [PCC08](https://github.com/pybites/challenges/blob/solutions/08/inventory_bob.py)"
   ]
  },
  {
   "cell_type": "markdown",
   "metadata": {
    "deletable": true,
    "editable": true
   },
   "source": [
    "### 6. Collections.defaultdict and Counter"
   ]
  },
  {
   "cell_type": "code",
   "execution_count": 16,
   "metadata": {
    "collapsed": false,
    "deletable": true,
    "editable": true
   },
   "outputs": [
    {
     "data": {
      "text/plain": [
       "[('python', 10),\n",
       " ('code', 8),\n",
       " ('learning', 7),\n",
       " ('tips', 6),\n",
       " ('tricks', 5),\n",
       " ('challenges', 5),\n",
       " ('github', 5),\n",
       " ('data', 5),\n",
       " ('cleancode', 5),\n",
       " ('best', 5)]"
      ]
     },
     "execution_count": 16,
     "metadata": {},
     "output_type": "execute_result"
    }
   ],
   "source": [
    "most_common_tags = Counter(tags).most_common(10)\n",
    "most_common_tags"
   ]
  },
  {
   "cell_type": "code",
   "execution_count": 17,
   "metadata": {
    "collapsed": false,
    "deletable": true,
    "editable": true
   },
   "outputs": [
    {
     "name": "stdout",
     "output_type": "stream",
     "text": [
      "defaultdict(<class 'list'>,\n",
      "            {'kitchen': [Item(name='table', value=300)],\n",
      "             'living': [Item(name='tv', value=600),\n",
      "                        Item(name='sofa', value=500)],\n",
      "             'study': [Item(name='chair', value=200)]})\n"
     ]
    }
   ],
   "source": [
    "# defaultdict, using previously defined Item namedtuple and zip idiom\n",
    "inventory = defaultdict(list)\n",
    "\n",
    "things = ('tv', 'sofa', 'table', 'chair')\n",
    "values = (600, 500, 300, 200)\n",
    "rooms = ('living', 'living', 'kitchen', 'study')\n",
    "\n",
    "for name, age, room in zip(things, values, rooms):\n",
    "    item = Item(name, age)\n",
    "    inventory[room].append(item)\n",
    "\n",
    "pp(inventory)"
   ]
  },
  {
   "cell_type": "markdown",
   "metadata": {
    "deletable": true,
    "editable": true
   },
   "source": [
    "References: [PCC03](http://pybit.es/codechallenge03_review.html), [PCC07](http://pybit.es/codechallenge07_review.html), [PCC08](https://github.com/pybites/challenges/blob/solutions/08/inventory_bob.py), [bobcodes.it](http://bobbelderbos.com/2016/12/code-kata/)"
   ]
  },
  {
   "cell_type": "markdown",
   "metadata": {
    "deletable": true,
    "editable": true
   },
   "source": [
    "### 7. Sum, max, etc can take generators, dict.get, flatten list of lists"
   ]
  },
  {
   "cell_type": "code",
   "execution_count": 18,
   "metadata": {
    "collapsed": false,
    "deletable": true,
    "editable": true
   },
   "outputs": [],
   "source": [
    "scrabble_scores = [(1, \"E A O I N R T L S U\"), (2, \"D G\"), (3, \"B C M P\"),\n",
    "                   (4, \"F H V W Y\"), (5, \"K\"), (8, \"J X\"), (10, \"Q Z\")]\n",
    "LETTER_SCORES = {letter: score for score, letters in scrabble_scores\n",
    "                              for letter in letters.split()}"
   ]
  },
  {
   "cell_type": "code",
   "execution_count": 19,
   "metadata": {
    "collapsed": false,
    "deletable": true,
    "editable": true
   },
   "outputs": [
    {
     "data": {
      "text/plain": [
       "27"
      ]
     },
     "execution_count": 19,
     "metadata": {},
     "output_type": "execute_result"
    }
   ],
   "source": [
    "word = 'contextmanagers'\n",
    "sum(LETTER_SCORES.get(char.upper(), 0) for char in word)"
   ]
  },
  {
   "cell_type": "markdown",
   "metadata": {
    "deletable": true,
    "editable": true
   },
   "source": [
    "Another trick: flatten nested lists with sum:"
   ]
  },
  {
   "cell_type": "code",
   "execution_count": 20,
   "metadata": {
    "collapsed": false,
    "deletable": true,
    "editable": true
   },
   "outputs": [
    {
     "data": {
      "text/plain": [
       "[1, 2, 3, 4, 5, 6, 7, 8]"
      ]
     },
     "execution_count": 20,
     "metadata": {},
     "output_type": "execute_result"
    }
   ],
   "source": [
    "sum([[1, 2], [3], [4, 5], [6, 7, 8]], []) "
   ]
  },
  {
   "cell_type": "markdown",
   "metadata": {
    "deletable": true,
    "editable": true
   },
   "source": [
    "References: [PCC01](http://pybit.es/codechallenge01_review.html), [Daily Python Tip](https://twitter.com/python_tip/status/838705722779107328)"
   ]
  },
  {
   "cell_type": "markdown",
   "metadata": {
    "deletable": true,
    "editable": true
   },
   "source": [
    "### 8. String formatting"
   ]
  },
  {
   "cell_type": "code",
   "execution_count": 21,
   "metadata": {
    "collapsed": true,
    "deletable": true,
    "editable": true
   },
   "outputs": [],
   "source": [
    "country = \"Australia\"\n",
    "level = 11"
   ]
  },
  {
   "cell_type": "code",
   "execution_count": 22,
   "metadata": {
    "collapsed": false,
    "deletable": true,
    "editable": true
   },
   "outputs": [
    {
     "name": "stdout",
     "output_type": "stream",
     "text": [
      "The awesomeness level of Australia is 11.\n",
      "The awesomeness level of Australia is 11.\n",
      "The awesomeness level of Australia is 11.\n"
     ]
    }
   ],
   "source": [
    "# Beautiful is better than ugly.\n",
    "print(\"The awesomeness level of \" + country + \" is \" + str(level) + \".\")\n",
    "print(\"The awesomeness level of %s is %d.\" % (country, level))\n",
    "# much better: \n",
    "print(\"The awesomeness level of {} is {}.\".format(country, level))"
   ]
  },
  {
   "cell_type": "code",
   "execution_count": 23,
   "metadata": {
    "collapsed": false,
    "deletable": true,
    "editable": true
   },
   "outputs": [
    {
     "data": {
      "text/plain": [
       "'The awesomeness level of Australia is 11.'"
      ]
     },
     "execution_count": 23,
     "metadata": {},
     "output_type": "execute_result"
    }
   ],
   "source": [
    "# py 3.6 == f-string!\n",
    "f\"The awesomeness level of {country} is {level}.\""
   ]
  },
  {
   "cell_type": "markdown",
   "metadata": {
    "deletable": true,
    "editable": true
   },
   "source": [
    "References: [Pythonic String Formatting](http://pybit.es/string-formatting.html)"
   ]
  },
  {
   "cell_type": "markdown",
   "metadata": {
    "collapsed": true,
    "deletable": true,
    "editable": true
   },
   "source": [
    "### 9. Use join over string concatenation"
   ]
  },
  {
   "cell_type": "code",
   "execution_count": 24,
   "metadata": {
    "collapsed": true,
    "deletable": true,
    "editable": true
   },
   "outputs": [],
   "source": [
    "def strip_non_ascii(w):\n",
    "    return ''.join([i for i in w if i in ascii_lowercase])"
   ]
  },
  {
   "cell_type": "code",
   "execution_count": 25,
   "metadata": {
    "collapsed": false,
    "deletable": true,
    "editable": true
   },
   "outputs": [],
   "source": [
    "stripped_tags = [strip_non_ascii(tag) for tag in tags]"
   ]
  },
  {
   "cell_type": "code",
   "execution_count": 27,
   "metadata": {
    "collapsed": false,
    "deletable": true,
    "editable": true
   },
   "outputs": [
    {
     "name": "stdout",
     "output_type": "stream",
     "text": [
      "Most common: python, code, learning, tips, tricks, challenges, github, data, cleancode, best\n",
      "Most common: python, code, learning, tips, tricks, challenges, github, data, cleancode, best\n"
     ]
    }
   ],
   "source": [
    "# bad \n",
    "msg = 'Most common: '\n",
    "for tag, __ in most_common_tags:  # __ = throw away variable\n",
    "    msg += tag + ', '\n",
    "print(msg[:-2])\n",
    "\n",
    "# use join = cleaner and faster\n",
    "msg = 'Most common: '\n",
    "tags_str = ', '.join([tag for tag, _ in most_common_tags])\n",
    "print('{}{}'.format(msg, tags_str))"
   ]
  },
  {
   "cell_type": "markdown",
   "metadata": {
    "deletable": true,
    "editable": true
   },
   "source": [
    "References: [PCC05](https://github.com/pybites/challenges/blob/solutions/05/similar_tweeters.py), [Faster Python](http://pybit.es/faster-python.html)"
   ]
  },
  {
   "cell_type": "markdown",
   "metadata": {
    "deletable": true,
    "editable": true
   },
   "source": [
    "### 10. Using generators for performance + reduce complexity"
   ]
  },
  {
   "cell_type": "markdown",
   "metadata": {
    "deletable": true,
    "editable": true
   },
   "source": [
    "Use generators for faster and cleaner code"
   ]
  },
  {
   "cell_type": "code",
   "execution_count": 8,
   "metadata": {
    "collapsed": false,
    "deletable": true,
    "editable": true
   },
   "outputs": [
    {
     "name": "stdout",
     "output_type": "stream",
     "text": [
      "192.168.0.1\n",
      "192.168.0.2\n",
      "192.168.0.3\n",
      "192.168.0.4\n",
      "192.168.0.5\n"
     ]
    }
   ],
   "source": [
    "# generate a list of IP addresses\n",
    "def get_nodes(net='192.168.0'): \n",
    "    for i in range(1, 256): \n",
    "        yield '{}.{}'.format(net, i)\n",
    "        \n",
    "# get the first 5\n",
    "for ip in list(get_nodes())[:5]:\n",
    "    print(ip)"
   ]
  },
  {
   "cell_type": "code",
   "execution_count": 7,
   "metadata": {
    "collapsed": false
   },
   "outputs": [
    {
     "name": "stdout",
     "output_type": "stream",
     "text": [
      "4\n",
      "8\n",
      "16\n",
      "32\n",
      "64\n",
      "128\n"
     ]
    }
   ],
   "source": [
    "# indefinitely double a given number\n",
    "def num_gen(num):\n",
    "    while True:\n",
    "        num += num\n",
    "        yield num\n",
    "\n",
    "# don't materialize this one with list() !\n",
    "for i, num in enumerate(num_gen(2)):\n",
    "    print(num)\n",
    "    if i == 5:\n",
    "        break"
   ]
  },
  {
   "cell_type": "markdown",
   "metadata": {
    "deletable": true,
    "editable": true
   },
   "source": [
    "References: [PCC02](https://github.com/pybites/challenges/blob/solutions/02/game.py), [PCC03](https://github.com/pybites/challenges/blob/solutions/03/tags.py), [PCC07](https://github.com/pybites/challenges/blob/solutions/07/sentiment.py), [PCC09](https://github.com/pybites/challenges/blob/solutions/09/with_ssh.py), [Faster Python](http://pybit.es/faster-python.html)"
   ]
  },
  {
   "cell_type": "markdown",
   "metadata": {
    "deletable": true,
    "editable": true
   },
   "source": [
    "### Bonus: write Powerful Python using dunder (magic) methods"
   ]
  },
  {
   "cell_type": "markdown",
   "metadata": {
    "deletable": true,
    "editable": true
   },
   "source": [
    "See primer post [here](http://pybit.es/python-data-model.html)"
   ]
  }
 ],
 "metadata": {
  "kernelspec": {
   "display_name": "venv",
   "language": "python",
   "name": "venv"
  },
  "language_info": {
   "codemirror_mode": {
    "name": "ipython",
    "version": 3
   },
   "file_extension": ".py",
   "mimetype": "text/x-python",
   "name": "python",
   "nbconvert_exporter": "python",
   "pygments_lexer": "ipython3",
   "version": "3.6.0"
  }
 },
 "nbformat": 4,
 "nbformat_minor": 0
}
